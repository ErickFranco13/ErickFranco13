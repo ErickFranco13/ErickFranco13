{
 "cells": [
  {
   "cell_type": "markdown",
   "metadata": {},
   "source": [
    "# Ejercicio: Uso de funciones en Python"
   ]
  },
  {
   "cell_type": "code",
   "execution_count": 6,
   "metadata": {},
   "outputs": [
    {
     "name": "stdout",
     "output_type": "stream",
     "text": [
      "Reporte de combustible:\n",
      "    Total promedio: 113.33333333333333%\n",
      "    Tanque principal: 90%\n",
      "    Tanque externo: 100%\n",
      "    Tanque de Hidrogeno: 150% \n",
      "    \n",
      "Reporte de combustible:\n",
      "    Total promedio: 131.33333333333334%\n",
      "    Tanque principal: 150%\n",
      "    Tanque externo: 67%\n",
      "    Tanque de Hidrogeno: 177% \n",
      "    \n"
     ]
    }
   ],
   "source": [
    "def generar_reporte(tanque_principal,tanque_externo,tanque_de_hidrogeno):\n",
    "    total_promedio = (tanque_principal + tanque_externo + tanque_de_hidrogeno) / 3\n",
    "    return f\"\"\"Reporte de combustible:\n",
    "    Total promedio: {total_promedio}%\n",
    "    Tanque principal: {tanque_principal}%\n",
    "    Tanque externo: {tanque_externo}%\n",
    "    Tanque de Hidrogeno: {tanque_de_hidrogeno}% \n",
    "    \"\"\"\n",
    "print(generar_reporte(90, 100, 150))\n",
    "\n",
    "\n",
    "def promedio(values):\n",
    "    total = sum(values)\n",
    "    number_de_items = len(values)\n",
    "    return total / number_de_items\n",
    "\n",
    "promedio([90, 75, 111]) \n",
    "\n",
    "def generar_reporte(tanque_principal,tanque_externo,tanque_de_hidrogeno):\n",
    "    return f\"\"\"Reporte de combustible:\n",
    "    Total promedio: {promedio([tanque_principal,tanque_externo,tanque_de_hidrogeno])}%\n",
    "    Tanque principal: {tanque_principal}%\n",
    "    Tanque externo: {tanque_externo}%\n",
    "    Tanque de Hidrogeno: {tanque_de_hidrogeno}% \n",
    "    \"\"\"\n",
    "\n",
    "print(generar_reporte(150, 67, 177))"
   ]
  },
  {
   "cell_type": "markdown",
   "metadata": {},
   "source": [
    "# Ejercicio 2: Trabajo con argumentos de palabra clave"
   ]
  },
  {
   "cell_type": "code",
   "execution_count": 5,
   "metadata": {},
   "outputs": [
    {
     "name": "stdout",
     "output_type": "stream",
     "text": [
      "\n",
      "    Mision hacia Neptuno\n",
      "    Tiempo total de vuelo: 235 minutos\n",
      "    Total de combustible restante: 12248885 galones\n",
      "    \n",
      "\n",
      "    Mision hacia Neptuno\n",
      "    Tiempo total de vuelo: 150 minutos\n",
      "    Total de combustible restante: 12248885 galones\n",
      "    \n",
      "\n",
      "    Mision hacia Netpuno\n",
      "    Tiempo total de vuelo: 150 minutos\n",
      "    Total de combustible restante: 12248885\n",
      "    main tanque --> 5245345 galones restantes\n",
      "external tanque --> 7003540 galones restantes\n",
      "\n"
     ]
    }
   ],
   "source": [
    "def mision_reporte(pre_tiempo_lanzamiento, tiempo_vuelo, destino,\n",
    "tanque_externo, tanque_principal):\n",
    "    return f\"\"\"\n",
    "    Mision hacia {destino}\n",
    "    Tiempo total de vuelo: {pre_tiempo_lanzamiento + tiempo_vuelo} minutos\n",
    "    Total de combustible restante: {tanque_externo + tanque_principal} galones\n",
    "    \"\"\"\n",
    "\n",
    "print(mision_reporte(144, 91, \"Neptuno\", 5245345, 7003540))\n",
    "\n",
    "def mision_reporte(destino, *minutos, **combustible_de_reserva):\n",
    "    return f\"\"\"\n",
    "    Mision hacia {destino}\n",
    "    Tiempo total de vuelo: {sum(minutos)} minutos\n",
    "    Total de combustible restante: {sum(combustible_de_reserva.values())} galones\n",
    "    \"\"\"\n",
    "print(mision_reporte(\"Neptuno\", 30, 45, 75, main=5245345, external=7003540))\n",
    "\n",
    "\n",
    "def mision_reporte(destino, *minutos, **combustible_de_reserva):\n",
    "    reporte_principal = f\"\"\"\n",
    "    Mision hacia {destino}\n",
    "    Tiempo total de vuelo: {sum(minutos)} minutos\n",
    "    Total de combustible restante: {sum(combustible_de_reserva.values())}galones restantes\n",
    "    \"\"\"\n",
    "    for nombre_tanque, galones in combustible_de_reserva.items():\n",
    "        reporte_principal += f\"{nombre_tanque} tanque --> {galones} galones restantes\\n\"\n",
    "    return reporte_principal\n",
    "\n",
    "print(mision_reporte(\"Netpuno\", 30, 45, 75, main=5245345, external=7003540))\n"
   ]
  }
 ],
 "metadata": {
  "interpreter": {
   "hash": "f471bfd7021135b54a30dc1898d8b8004fa6261c019ff9b671c5537b2bd018c0"
  },
  "kernelspec": {
   "display_name": "Python 3.10.2 64-bit",
   "language": "python",
   "name": "python3"
  },
  "language_info": {
   "codemirror_mode": {
    "name": "ipython",
    "version": 3
   },
   "file_extension": ".py",
   "mimetype": "text/x-python",
   "name": "python",
   "nbconvert_exporter": "python",
   "pygments_lexer": "ipython3",
   "version": "3.10.2"
  },
  "orig_nbformat": 4
 },
 "nbformat": 4,
 "nbformat_minor": 2
}
