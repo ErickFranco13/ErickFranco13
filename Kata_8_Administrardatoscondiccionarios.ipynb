{
 "cells": [
  {
   "cell_type": "markdown",
   "metadata": {},
   "source": [
    "# Ejercicio 1: Creación de diccionarios de Python"
   ]
  },
  {
   "cell_type": "code",
   "execution_count": 21,
   "metadata": {},
   "outputs": [
    {
     "name": "stdout",
     "output_type": "stream",
     "text": [
      "Jupiter tiene 79 lunas\n"
     ]
    },
    {
     "ename": "KeyError",
     "evalue": "'name'",
     "output_type": "error",
     "traceback": [
      "\u001b[1;31m---------------------------------------------------------------------------\u001b[0m",
      "\u001b[1;31mKeyError\u001b[0m                                  Traceback (most recent call last)",
      "\u001b[1;32mc:\\Users\\52782\\Desktop\\pytho\\katas\\python\\python\\Kata_No8_Administrardatoscondiccionarios.ipynb Cell 2'\u001b[0m in \u001b[0;36m<module>\u001b[1;34m\u001b[0m\n\u001b[0;32m      <a href='vscode-notebook-cell:/c%3A/Users/52782/Desktop/pytho/katas/python/python/Kata_No8_Administrardatoscondiccionarios.ipynb#ch0000001?line=6'>7</a>\u001b[0m \u001b[39mprint\u001b[39m(\u001b[39mf\u001b[39m\u001b[39m'\u001b[39m\u001b[39m{\u001b[39;00mplanet[\u001b[39m\"\u001b[39m\u001b[39mnombre\u001b[39m\u001b[39m\"\u001b[39m]\u001b[39m}\u001b[39;00m\u001b[39m tiene \u001b[39m\u001b[39m{\u001b[39;00mplanet[\u001b[39m\"\u001b[39m\u001b[39mlunas\u001b[39m\u001b[39m\"\u001b[39m]\u001b[39m}\u001b[39;00m\u001b[39m lunas\u001b[39m\u001b[39m'\u001b[39m)\n\u001b[0;32m     <a href='vscode-notebook-cell:/c%3A/Users/52782/Desktop/pytho/katas/python/python/Kata_No8_Administrardatoscondiccionarios.ipynb#ch0000001?line=9'>10</a>\u001b[0m planet[\u001b[39m'\u001b[39m\u001b[39mcircumferencia (km)\u001b[39m\u001b[39m'\u001b[39m] \u001b[39m=\u001b[39m {\n\u001b[0;32m     <a href='vscode-notebook-cell:/c%3A/Users/52782/Desktop/pytho/katas/python/python/Kata_No8_Administrardatoscondiccionarios.ipynb#ch0000001?line=10'>11</a>\u001b[0m     \u001b[39m'\u001b[39m\u001b[39mpolar\u001b[39m\u001b[39m'\u001b[39m:  \u001b[39m142984\u001b[39m,\n\u001b[0;32m     <a href='vscode-notebook-cell:/c%3A/Users/52782/Desktop/pytho/katas/python/python/Kata_No8_Administrardatoscondiccionarios.ipynb#ch0000001?line=11'>12</a>\u001b[0m     \u001b[39m'\u001b[39m\u001b[39mequatorial\u001b[39m\u001b[39m'\u001b[39m: \u001b[39m71492\u001b[39m,\n\u001b[0;32m     <a href='vscode-notebook-cell:/c%3A/Users/52782/Desktop/pytho/katas/python/python/Kata_No8_Administrardatoscondiccionarios.ipynb#ch0000001?line=12'>13</a>\u001b[0m }\n\u001b[1;32m---> <a href='vscode-notebook-cell:/c%3A/Users/52782/Desktop/pytho/katas/python/python/Kata_No8_Administrardatoscondiccionarios.ipynb#ch0000001?line=14'>15</a>\u001b[0m \u001b[39mprint\u001b[39m(\u001b[39mf\u001b[39m\u001b[39m'\u001b[39m\u001b[39m{\u001b[39;00mplanet[\u001b[39m\"\u001b[39m\u001b[39mname\u001b[39m\u001b[39m\"\u001b[39m]\u001b[39m}\u001b[39;00m\u001b[39m tine una circunferencia polar de \u001b[39m\u001b[39m{\u001b[39;00mplanet[\u001b[39m\"\u001b[39m\u001b[39mcircuferencia  de (km)\u001b[39m\u001b[39m\"\u001b[39m][\u001b[39m\"\u001b[39m\u001b[39mpolar\u001b[39m\u001b[39m\"\u001b[39m]\u001b[39m}\u001b[39;00m\u001b[39m'\u001b[39m)\n",
      "\u001b[1;31mKeyError\u001b[0m: 'name'"
     ]
    }
   ],
   "source": [
    "planet = {\n",
    "    'nombre': 'Jupiter',\n",
    "    'lunas': 79\n",
    "}\n",
    "\n",
    "\n",
    "print(f'{planet[\"nombre\"]} tiene {planet[\"lunas\"]} lunas')\n",
    "\n",
    "\n",
    "planet['circumferencia (km)'] = {\n",
    "    'polar':  142.984,\n",
    "    'equatorial': 71.492,\n",
    "}\n",
    "\n",
    "print(f'{planet[\"name\"]} tine una circunferencia polar de {planet[\"circuferencia  de (km)\"][\"polar\"]}')"
   ]
  },
  {
   "cell_type": "markdown",
   "metadata": {},
   "source": [
    "# Ejercicio 2: Programación dinámica con diccionarios"
   ]
  },
  {
   "cell_type": "code",
   "execution_count": 24,
   "metadata": {},
   "outputs": [
    {
     "name": "stdout",
     "output_type": "stream",
     "text": [
      "15.571428571428571\n"
     ]
    }
   ],
   "source": [
    "planet_moons = {\n",
    "    'Mercurio': 0,\n",
    "    'Venus': 0,\n",
    "    'Tierra': 1,\n",
    "    'Mars': 2,\n",
    "    'jupiter': 79,\n",
    "    'saturno': 82,\n",
    "    'urano': 27,\n",
    "    'neptuno': 14,\n",
    "    'pluton': 5,\n",
    "    'io': 3,\n",
    "    'Europa': 1,\n",
    "    'ceres': 1,\n",
    "    'ganimedes':1,\n",
    "    'Calisto':2\n",
    "}\n",
    "lunas = planet_moons.values()\n",
    "planetas = len(planet_moons.keys())\n",
    "\n",
    "total_lunas = 0\n",
    "for luna in lunas:\n",
    "    total_lunas = total_lunas + luna\n",
    "\n",
    "promedio = total_lunas / planetas\n",
    "print(promedio)"
   ]
  }
 ],
 "metadata": {
  "interpreter": {
   "hash": "f471bfd7021135b54a30dc1898d8b8004fa6261c019ff9b671c5537b2bd018c0"
  },
  "kernelspec": {
   "display_name": "Python 3.10.2 64-bit",
   "language": "python",
   "name": "python3"
  },
  "language_info": {
   "codemirror_mode": {
    "name": "ipython",
    "version": 3
   },
   "file_extension": ".py",
   "mimetype": "text/x-python",
   "name": "python",
   "nbconvert_exporter": "python",
   "pygments_lexer": "ipython3",
   "version": "3.10.2"
  },
  "orig_nbformat": 4
 },
 "nbformat": 4,
 "nbformat_minor": 2
}
