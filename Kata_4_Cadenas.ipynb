{
 "cells": [
  {
   "cell_type": "markdown",
   "metadata": {},
   "source": [
    "# Ejercicio 1: Transformar cadenas"
   ]
  },
  {
   "cell_type": "code",
   "execution_count": 3,
   "metadata": {},
   "outputs": [],
   "source": [
    "text = \"\"\"Datos interesantes sobre la Luna. La Luna es el único satélite de la Tierra.\n",
    "Hay varios datos interesantes sobre la Luna y cómo afecta\n",
    "vida aquí en la Tierra.\n",
    "En promedio, la Luna se aleja 4 cm de la Tierra cada año.\n",
    "Esta deriva anual no es lo suficientemente significativa como para causar efectos inmediatos en la Tierra.\n",
    "La temperatura diurna más alta de la Luna es de 127 C.\"\"\"\n",
    "\n",
    "text_parts = text.split('. ')\n",
    "text_parts\n",
    "\n",
    "key_words = [\"average\", \"temperature\", \"distance\"]\n",
    "for sentence in text_parts:\n",
    "    for key_word in key_words:\n",
    "        if key_word in sentence:\n",
    "            print(sentence)\n",
    "            break\n",
    "for sentence in text_parts:\n",
    "    for key_word in key_words:\n",
    "        if key_word in sentence:\n",
    "            print(sentence.replace(' C', ' Celsius'))\n",
    "            break"
   ]
  },
  {
   "cell_type": "code",
   "execution_count": 1,
   "metadata": {},
   "outputs": [
    {
     "name": "stdout",
     "output_type": "stream",
     "text": [
      "------------------------------------------------------------------------------------------ \n",
      "Nombre del planeta: Jupiter  \n",
      "Gravedad en Himalia: 6.2 m/s2 \n",
      "\n",
      "\n",
      "Datos de Gravedad sobre: Himalia\n",
      "_______________________________________________________________________________\n",
      "Nombre del planeta: Jupiter \n",
      "Gravedad en Himalia: 0.0062 m/s2\n",
      "\n",
      "\n",
      "Datos de Gravedad sobre: Himalia\n",
      "_______________________________________________________________________________\n",
      "Nombre del planeta: Jupiter \n",
      "Gravedad en Himalia: 6.2 m/s2\n",
      "\n"
     ]
    }
   ],
   "source": [
    "planeta = 'Jupiter '\n",
    "gravedad  = 0.0062\n",
    "nombre = 'Himalia'\n",
    "\n",
    "\n",
    "#titulo\n",
    "title = f'datos de gravedad sobre {nombre}'\n",
    "\n",
    "#Creacion de plantilla\n",
    "hechos = f\"\"\"{'-'*90} \n",
    "Nombre del planeta: {planeta} \n",
    "Gravedad en {nombre}: {gravedad * 1000} m/s2 \n",
    "\"\"\"\n",
    "#Unión\n",
    "template = f\"\"\"{title.title()} \n",
    "{hechos} \n",
    "\"\"\" \n",
    "print(hechos)\n",
    "\n",
    "#Platilla\n",
    "new_template = \"\"\"\n",
    "Datos de Gravedad sobre: {nombre}\n",
    "_______________________________________________________________________________\n",
    "Nombre del planeta: {planeta}\n",
    "Gravedad en {nombre}: {gravedad} m/s2\n",
    "\"\"\"\n",
    "print(new_template.format(nombre=nombre, planeta=planeta, gravedad=gravedad))\n",
    "print(new_template.format(nombre=nombre, planeta=planeta, gravedad=gravedad*1000))"
   ]
  }
 ],
 "metadata": {
  "interpreter": {
   "hash": "f471bfd7021135b54a30dc1898d8b8004fa6261c019ff9b671c5537b2bd018c0"
  },
  "kernelspec": {
   "display_name": "Python 3.10.2 64-bit",
   "language": "python",
   "name": "python3"
  },
  "language_info": {
   "codemirror_mode": {
    "name": "ipython",
    "version": 3
   },
   "file_extension": ".py",
   "mimetype": "text/x-python",
   "name": "python",
   "nbconvert_exporter": "python",
   "pygments_lexer": "ipython3",
   "version": "3.10.2"
  },
  "orig_nbformat": 4
 },
 "nbformat": 4,
 "nbformat_minor": 2
}
